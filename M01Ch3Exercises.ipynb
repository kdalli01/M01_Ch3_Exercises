{
 "cells": [
  {
   "cell_type": "code",
   "execution_count": 16,
   "id": "ca688fe6-4695-4377-941a-b54018d1e3c9",
   "metadata": {},
   "outputs": [
    {
     "data": {
      "text/plain": [
       "3600"
      ]
     },
     "execution_count": 16,
     "metadata": {},
     "output_type": "execute_result"
    }
   ],
   "source": [
    "#3.1 How many seconds are in an hour? Use the interactive interpreter as a calculator and multiply the number \n",
    "#of seconds in a minute (60) by the number of minutes in an hour (also 60).\n",
    "60*60"
   ]
  },
  {
   "cell_type": "code",
   "execution_count": 2,
   "id": "02c15d91-7820-429c-8fb0-1d408cfeefd8",
   "metadata": {},
   "outputs": [
    {
     "data": {
      "text/plain": [
       "86400"
      ]
     },
     "execution_count": 2,
     "metadata": {},
     "output_type": "execute_result"
    }
   ],
   "source": [
    "#3.2 Assign the result from the previous task (seconds in an hour) to a variable called seconds_per_hour.\n",
    "seconds_per_hour=3600\n",
    "\n",
    "#3.3 How many seconds are in a day? Use your seconds_per_hour variable.\n",
    "seconds_per_hour*24\n"
   ]
  },
  {
   "cell_type": "code",
   "execution_count": 24,
   "id": "1d223f65-3d54-4e99-a526-a939b3c6690e",
   "metadata": {},
   "outputs": [],
   "source": [
    "#3.4 Calculate seconds per day again, but this time save the result in a variable called seconds_per_day.\n",
    "seconds_per_day=seconds_per_hour*24"
   ]
  },
  {
   "cell_type": "code",
   "execution_count": 25,
   "id": "cbd1ddcb-9171-429b-b235-cddfe8a1f29d",
   "metadata": {},
   "outputs": [
    {
     "data": {
      "text/plain": [
       "24.0"
      ]
     },
     "execution_count": 25,
     "metadata": {},
     "output_type": "execute_result"
    }
   ],
   "source": [
    "#3.5 Divide seconds_per_day by seconds_per_hour. Use floating-point (/) division.\n",
    "seconds_per_day/seconds_per_hour"
   ]
  },
  {
   "cell_type": "code",
   "execution_count": 19,
   "id": "a8424c7b-965d-4502-b8f0-bb8e88711166",
   "metadata": {},
   "outputs": [
    {
     "data": {
      "text/plain": [
       "24"
      ]
     },
     "execution_count": 19,
     "metadata": {},
     "output_type": "execute_result"
    }
   ],
   "source": [
    "#3.6 Divide seconds_per_day by seconds_per_hour, using integer (//) division. \n",
    "#Did this number agree with the floating-point value from the previous question, aside from the final .0?\n",
    "seconds_per_day//seconds_per_hour\n"
   ]
  },
  {
   "cell_type": "code",
   "execution_count": 33,
   "id": "040cd187-a489-4130-95c7-d481784a702b",
   "metadata": {},
   "outputs": [],
   "source": [
    "#The answers are the same value, but the floating point division returned the response as a float while integer \n",
    "#division returned the answer as an int."
   ]
  },
  {
   "cell_type": "code",
   "execution_count": null,
   "id": "047112bc-809a-44f9-9724-c280f10c3567",
   "metadata": {},
   "outputs": [],
   "source": []
  }
 ],
 "metadata": {
  "kernelspec": {
   "display_name": "Python 3 (ipykernel)",
   "language": "python",
   "name": "python3"
  },
  "language_info": {
   "codemirror_mode": {
    "name": "ipython",
    "version": 3
   },
   "file_extension": ".py",
   "mimetype": "text/x-python",
   "name": "python",
   "nbconvert_exporter": "python",
   "pygments_lexer": "ipython3",
   "version": "3.11.7"
  }
 },
 "nbformat": 4,
 "nbformat_minor": 5
}
